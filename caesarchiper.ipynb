{
 "cells": [
  {
   "cell_type": "code",
   "execution_count": 1,
   "metadata": {},
   "outputs": [],
   "source": [
    "import string\n",
    "\n",
    "\n",
    "def shift_key(n: int=0):    \n",
    "    alphabet = string.ascii_letters + \" 0123456789\" + \"`~!@#$%^&*()_+-=\" + \"[]\\;',./\" + '{}|:\"<>?'\n",
    "    shifted_key = dict()\n",
    "\n",
    "    o = 1\n",
    "    for i in range(n, len(alphabet)+n):\n",
    "        shifted_key[o] = alphabet[i % len(alphabet)]\n",
    "        o += 1\n",
    "    \n",
    "    return shifted_key\n",
    "\n",
    "\n",
    "def default_key():\n",
    "    alphabet = string.ascii_letters + \" 0123456789\" + \"`~!@#$%^&*()_+-=\" + \"[]\\;',./\" + '{}|:\"<>?'\n",
    "    key = dict()\n",
    "\n",
    "    for j in range(len(alphabet)):\n",
    "        key[alphabet[j]] = j+1\n",
    "        \n",
    "    return key\n",
    "\n",
    "\n",
    "\n",
    "def encrypt(words: str, shift: int):\n",
    "    encrypted_word = \"\"\n",
    "\n",
    "    dft_key = default_key()\n",
    "    new_key = shift_key(shift)\n",
    "\n",
    "    for char in words:\n",
    "        if char in dft_key:\n",
    "            encrypted_word += new_key[dft_key[char]]\n",
    "        else:\n",
    "            encrypted_word += char\n",
    "\n",
    "    return encrypted_word\n",
    "\n",
    "def decrypt(words: str, expected: str):\n",
    "    dft_key = default_key()\n",
    "    \n",
    "    cur = []\n",
    "    for char in words:\n",
    "        cur.append(dft_key[char])\n",
    "        \n",
    "    got_it = \"\"\n",
    "    ind = 0\n",
    "    print(\"Possible encrypted word:\")\n",
    "    for i in range(len(dft_key)):\n",
    "        new_str = \"\"\n",
    "        \n",
    "        new_key = shift_key(i)\n",
    "        for k in cur:\n",
    "            new_str += new_key[k]\n",
    "        \n",
    "        if new_str == expected:\n",
    "            got_it = new_str\n",
    "            ind = i\n",
    "            print(\"\\033[92m\" + f\"{new_str}\" + \"\\033[0m\")\n",
    "        else:\n",
    "            print(f\"{new_str}\")\n",
    "    \n",
    "    print(f\"\\nShift #{(len(dft_key) - ind) % len(dft_key)}\")\n",
    "    return got_it\n"
   ]
  },
  {
   "cell_type": "code",
   "execution_count": 2,
   "metadata": {},
   "outputs": [
    {
     "data": {
      "text/plain": [
       "'abcdefghijklmnopqrstuvwxyzABCDEFGHIJKLMNOPQRSTUVWXYZ 0123456789`~!@#$%^&*()_+-=[]\\\\;\\',./{}|:\"<>?'"
      ]
     },
     "execution_count": 2,
     "metadata": {},
     "output_type": "execute_result"
    }
   ],
   "source": [
    "string.ascii_letters + \" 0123456789\" + \"`~!@#$%^&*()_+-=\" + \"[]\\;',./\" + '{}|:\"<>?'"
   ]
  },
  {
   "cell_type": "code",
   "execution_count": 3,
   "metadata": {},
   "outputs": [
    {
     "name": "stdout",
     "output_type": "stream",
     "text": [
      "Encrypted:\n",
      "\u001b[91m=OPZ.PZ.H.ZLJYL .TLZZHNLd\n"
     ]
    }
   ],
   "source": [
    "# Ecrypt\n",
    "if __name__ == \"__main__\":\n",
    "    strings = \"This is a secret message!\"\n",
    "    shift = 1547963\n",
    "    \n",
    "    encrypted_strings = encrypt(strings, shift)\n",
    "    print(\"Encrypted:\")\n",
    "    print(\"\\033[91m\" + encrypted_strings)\n",
    "    "
   ]
  },
  {
   "cell_type": "code",
   "execution_count": 4,
   "metadata": {
    "scrolled": false
   },
   "outputs": [
    {
     "name": "stdout",
     "output_type": "stream",
     "text": [
      "Possible encrypted word:\n",
      "=OPZ.PZ.H.ZLJYL .TLZZHNLd\n",
      "[PQ /Q /I/ MKZM0/UM  IOMe\n",
      "]QR0{R0{J{0NL N1{VN00JPNf\n",
      "\\RS1}S1}K}1OM0O2}WO11KQOg\n",
      ";ST2|T2|L|2PN1P3|XP22LRPh\n",
      "'TU3:U3:M:3QO2Q4:YQ33MSQi\n",
      ",UV4\"V4\"N\"4RP3R5\"ZR44NTRj\n",
      ".VW5<W5<O<5SQ4S6< S55OUSk\n",
      "/WX6>X6>P>6TR5T7>0T66PVTl\n",
      "{XY7?Y7?Q?7US6U8?1U77QWUm\n",
      "}YZ8aZ8aRa8VT7V9a2V88RXVn\n",
      "|Z 9b 9bSb9WU8W`b3W99SYWo\n",
      ": 0`c0`cTc`XV9X~c4X``TZXp\n",
      "\"01~d1~dUd~YW`Y!d5Y~~U Yq\n",
      "<12!e2!eVe!ZX~Z@e6Z!!V0Zr\n",
      ">23@f3@fWf@ Y! #f7 @@W1 s\n",
      "?34#g4#gXg#0Z@0$g80##X20t\n",
      "a45$h5$hYh$1 #1%h91$$Y31u\n",
      "b56%i6%iZi%20$2^i`2%%Z42v\n",
      "c67^j7^j j^31%3&j~3^^ 53w\n",
      "d78&k8&k0k&42^4*k!4&&064x\n",
      "e89*l9*l1l*53&5(l@5**175y\n",
      "f9`(m`(m2m(64*6)m#6((286z\n",
      "g`~)n~)n3n)75(7_n$7))397A\n",
      "h~!_o!_o4o_86)8+o%8__4`8B\n",
      "i!@+p@+p5p+97_9-p^9++5~9C\n",
      "j@#-q#-q6q-`8+`=q&`--6!`D\n",
      "k#$=r$=r7r=~9-~[r*~==7@~E\n",
      "l$%[s%[s8s[!`=!]s(![[8#!F\n",
      "m%^]t^]t9t]@~[@\\t)@]]9$@G\n",
      "n^&\\u&\\u`u\\#!]#;u_#\\\\`%#H\n",
      "o&*;v*;v~v;$@\\$'v+$;;~^$I\n",
      "p*('w('w!w'%#;%,w-%''!&%J\n",
      "q(),x),x@x,^$'^.x=^,,@*^K\n",
      "r)_.y_.y#y.&%,&/y[&..#(&L\n",
      "s_+/z+/z$z/*^.*{z]*//$)*M\n",
      "t+-{A-{A%A{(&/(}A\\({{%_(N\n",
      "u-=}B=}B^B})*{)|B;)}}^+)O\n",
      "v=[|C[|C&C|_(}_:C'_||&-_P\n",
      "w[]:D]:D*D:+)|+\"D,+::*=+Q\n",
      "x]\\\"E\\\"E(E\"-_:-<E.-\"\"([-R\n",
      "y\\;<F;<F)F<=+\"=>F/=<<)]=S\n",
      "z;'>G'>G_G>[-<[?G{[>>_\\[T\n",
      "A',?H,?H+H?]=>]aH}]??+;]U\n",
      "B,.aI.aI-Ia\\[?\\bI|\\aa-'\\V\n",
      "C./bJ/bJ=Jb;]a;cJ:;bb=,;W\n",
      "D/{cK{cK[Kc'\\b'dK\"'cc[.'X\n",
      "E{}dL}dL]Ld,;c,eL<,dd]/,Y\n",
      "F}|eM|eM\\Me.'d.fM>.ee\\{.Z\n",
      "G|:fN:fN;Nf/,e/gN?/ff;}/ \n",
      "H:\"gO\"gO'Og{.f{hOa{gg'|{0\n",
      "I\"<hP<hP,Ph}/g}iPb}hh,:}1\n",
      "J<>iQ>iQ.Qi|{h|jQc|ii.\"|2\n",
      "K>?jR?jR/Rj:}i:kRd:jj/<:3\n",
      "L?akSakS{Sk\"|j\"lSe\"kk{>\"4\n",
      "MablTblT}Tl<:k<mTf<ll}?<5\n",
      "NbcmUcmU|Um>\"l>nUg>mm|a>6\n",
      "OcdnVdnV:Vn?<m?oVh?nn:b?7\n",
      "PdeoWeoW\"Woa>napWiaoo\"ca8\n",
      "QefpXfpX<Xpb?obqXjbpp<db9\n",
      "RfgqYgqY>YqcapcrYkcqq>ec`\n",
      "SghrZhrZ?ZrdbqdsZldrr?fd~\n",
      "\u001b[92mThis is a secret message!\u001b[0m\n",
      "Uijt0jt0b0tfdsfu0nfttbhf@\n",
      "Vjku1ku1c1ugetgv1oguucig#\n",
      "Wklv2lv2d2vhfuhw2phvvdjh$\n",
      "Xlmw3mw3e3wigvix3qiwweki%\n",
      "Ymnx4nx4f4xjhwjy4rjxxflj^\n",
      "Znoy5oy5g5ykixkz5skyygmk&\n",
      " opz6pz6h6zljylA6tlzzhnl*\n",
      "0pqA7qA7i7AmkzmB7umAAiom(\n",
      "1qrB8rB8j8BnlAnC8vnBBjpn)\n",
      "2rsC9sC9k9ComBoD9woCCkqo_\n",
      "3stD`tD`l`DpnCpE`xpDDlrp+\n",
      "4tuE~uE~m~EqoDqF~yqEEmsq-\n",
      "5uvF!vF!n!FrpErG!zrFFntr=\n",
      "6vwG@wG@o@GsqFsH@AsGGous[\n",
      "7wxH#xH#p#HtrGtI#BtHHpvt]\n",
      "8xyI$yI$q$IusHuJ$CuIIqwu\\\n",
      "9yzJ%zJ%r%JvtIvK%DvJJrxv;\n",
      "`zAK^AK^s^KwuJwL^EwKKsyw'\n",
      "~ABL&BL&t&LxvKxM&FxLLtzx,\n",
      "!BCM*CM*u*MywLyN*GyMMuAy.\n",
      "@CDN(DN(v(NzxMzO(HzNNvBz/\n",
      "#DEO)EO)w)OAyNAP)IAOOwCA{\n",
      "$EFP_FP_x_PBzOBQ_JBPPxDB}\n",
      "%FGQ+GQ+y+QCAPCR+KCQQyEC|\n",
      "^GHR-HR-z-RDBQDS-LDRRzFD:\n",
      "&HIS=IS=A=SECRET=MESSAGE\"\n",
      "*IJT[JT[B[TFDSFU[NFTTBHF<\n",
      "(JKU]KU]C]UGETGV]OGUUCIG>\n",
      ")KLV\\LV\\D\\VHFUHW\\PHVVDJH?\n",
      "_LMW;MW;E;WIGVIX;QIWWEKIa\n",
      "+MNX'NX'F'XJHWJY'RJXXFLJb\n",
      "-NOY,OY,G,YKIXKZ,SKYYGMKc\n",
      "\n",
      "Shift #33\n",
      "\n",
      "Decrypted:\n",
      "\u001b[92mThis is a secret message!\n"
     ]
    }
   ],
   "source": [
    "# Decrypt\n",
    "if __name__ == \"__main__\":\n",
    "    decrypted_strings = decrypt(encrypted_strings, strings)\n",
    "    \n",
    "    print(\"\\nDecrypted:\")\n",
    "    print(\"\\033[92m\" + decrypted_strings)\n",
    "    "
   ]
  },
  {
   "cell_type": "code",
   "execution_count": null,
   "metadata": {},
   "outputs": [],
   "source": []
  }
 ],
 "metadata": {
  "kernelspec": {
   "display_name": "Python 3 (ipykernel)",
   "language": "python",
   "name": "python3"
  },
  "language_info": {
   "codemirror_mode": {
    "name": "ipython",
    "version": 3
   },
   "file_extension": ".py",
   "mimetype": "text/x-python",
   "name": "python",
   "nbconvert_exporter": "python",
   "pygments_lexer": "ipython3",
   "version": "3.10.2"
  },
  "vscode": {
   "interpreter": {
    "hash": "ae1ddcff7fb3589e56c1735bd04bc544f28a9960cac663cd0016f5d7384b912c"
   }
  }
 },
 "nbformat": 4,
 "nbformat_minor": 2
}
